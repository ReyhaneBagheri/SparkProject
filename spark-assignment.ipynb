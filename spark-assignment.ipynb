{
 "cells": [
  {
   "cell_type": "markdown",
   "id": "68eb274d",
   "metadata": {},
   "source": [
    "<div align=\"middle\">\n",
    "  <h1><b><i>تمرین سوم</i></b></h1>\n",
    " </div>\n",
    "\n",
    "\n"
   ]
  },
  {
   "cell_type": "markdown",
   "id": "8c416614",
   "metadata": {},
   "source": [
    "<div align=\"right\" dir=\"auto\">\n",
    "    \n",
    "   #  بخش اول:  هدوپ \n",
    "\n",
    "    ۱- به سوالات زیر پاسخ دهید\n",
    "    - مفهوم replication جیست\n",
    "    - مفهوم block در HDFS چیست و اگر بلاک‌ها را بسیار کوچک درنظر بگیریم چه مشکلی پیش می‌آید\n",
    "    \n",
    "</div>\n",
    "  \n",
    "    "
   ]
  },
  {
   "cell_type": "markdown",
   "id": "bd8b357d",
   "metadata": {},
   "source": [
    "هدوپ یک فایل سیستم  فالت تلرانس است و به این منظور از فایل ها چند نسخه نگه داری میکند. به این میگویند رپلیکیشن\n",
    "\n",
    "بلاک کوچکترین واحدی است که در این فایل سیستم وجود دارد و به صورت پیشفرض ۶۴ مگابایت میباشد. کوچک گرفتن آن باعث میشود که تعداد بلاک ها و در نتیجه متا دیتای آنها افزایش پیدا کند و باعث افزایش اورهد خواهد شد\n"
   ]
  },
  {
   "cell_type": "markdown",
   "id": "dd8dc620",
   "metadata": {},
   "source": [
    "    # answer"
   ]
  },
  {
   "cell_type": "markdown",
   "id": "e1bfb623",
   "metadata": {},
   "source": [
    "<div align=\"right\" dir=\"auto\">\n",
    "   \n",
    "\n",
    "    ۲- در  این قسمت شما باید ابتدا دیتاست داده شده را از حالت فشرده در بیاورید و سپس فایل‌های درون آن را در کلاستر هدوپ در مسیر /homework3/dataset/ بارگزاری کنید \n",
    "    نکته: در این بخش دستورات زده شده خود را برای کار با hdfs  در ترمینال را در سلول زیر وارد نمایید\n",
    "    برای دسترسی به کامند 'hdfs dfs'  میتوانید وارد یکی از کانتینر‌های هدوپ شوید و دستور را اجرا کنید همچنین همه کانتینر‌ها دارای shared_dir\n",
    "    در روت خود هستند و این دایرکتوری در تمام کانتینر‌ها به اشتراک گذاشته شده است\n",
    "    برای چک کردن فایل‌ها در hdfs به \n",
    "    \n",
    "[HDFS webUI](http://localhost:9870/explorer.html#/)\n",
    "    \n",
    "    مراجعه کنید\n",
    " </div>"
   ]
  },
  {
   "cell_type": "markdown",
   "id": "be1feed9",
   "metadata": {},
   "source": [
    "hadoop fs –mkdir /homework3\n",
    "hadoop fs –mkdir /homework3/dataset\n",
    "haoop fs -put /shared_dir/War.json /homework/dataset\n",
    "haoop fs -put /shared_dir/Weapon.json /homework/dataset "
   ]
  },
  {
   "cell_type": "markdown",
   "id": "ea239478",
   "metadata": {},
   "source": [
    "------------------------------------"
   ]
  },
  {
   "cell_type": "markdown",
   "id": "9773cf6d",
   "metadata": {},
   "source": [
    "<div align=\"right\" dir=\"auto\">\n",
    "    \n",
    "   #  بخش دوم:  اسپارک \n",
    "\n",
    "    ۱- به سوالات زیر پاسخ دهید\n",
    "    - مزیت اسپارک نسبت به مدل قدیمی map/reduce چیست؟\n",
    "    -  تفاوت action و transform در اسپارک چیست؟\n",
    "    \n",
    "</div>\n",
    "  \n",
    "    "
   ]
  },
  {
   "cell_type": "markdown",
   "id": "1e6f7afa",
   "metadata": {},
   "source": [
    "    # answer"
   ]
  },
  {
   "cell_type": "markdown",
   "id": "a33d8182",
   "metadata": {},
   "source": [
    "اسپارک یک مدل مبتنی بر حافظه است نه دیسک. به این دلیل دیتای میانی در مموری ذخیره میشود و سرعت بیشتری خواهیم داشت\n",
    "\n",
    "ترنسفرمیشن عملیاتی است که روی دیتاست انجام میدهیم و دیتاست جدید می توانیم تولید کنیم اما اکشن دیتاست تولید نمیکند. صرفا بعد از محاسبات، یک ولیو به درایور برمیگرداند"
   ]
  },
  {
   "cell_type": "markdown",
   "id": "885c5f2a",
   "metadata": {},
   "source": [
    "<div align=\"right\" dir=\"auto\">\n",
    "    \n",
    "\n",
    "    ۲- کد‌های خواسته شده در قسمت‌های پایینی را تکمیل کنید\n",
    "    (قسمت های ToDo )\n",
    "</div>\n",
    "  \n",
    "    "
   ]
  },
  {
   "cell_type": "markdown",
   "id": "22d79a52",
   "metadata": {},
   "source": [
    "\n",
    "<div align=\"right\" dir=\"auto\">\n",
    "   \n",
    "##  اتصال به کلاستر اسپارک و هدوپ \n",
    "\n",
    "    در این قسمت از تمرین باید به عنوان درایور یک سسشن  به کلاستر اسپارک بسازیم.\n",
    " </div>\n",
    "  \n",
    "    "
   ]
  },
  {
   "cell_type": "code",
   "execution_count": 24,
   "id": "413fc9d6",
   "metadata": {},
   "outputs": [],
   "source": [
    "import pyspark\n",
    "from pyspark import SparkContext \n",
    "from pyspark.sql import SparkSession,Row\n",
    "from pyspark.sql import functions as F  \n",
    "from pyspark.sql.functions import *\n",
    "import math\n",
    "import pandas , numpy\n",
    "import matplotlib\n",
    "import pprint\n",
    "    \n"
   ]
  },
  {
   "cell_type": "code",
   "execution_count": 25,
   "id": "19af3684",
   "metadata": {},
   "outputs": [
    {
     "data": {
      "text/html": [
       "\n",
       "            <div>\n",
       "                <p><b>SparkSession - in-memory</b></p>\n",
       "                \n",
       "        <div>\n",
       "            <p><b>SparkContext</b></p>\n",
       "\n",
       "            <p><a href=\"http://10.20.30.100:4040\">Spark UI</a></p>\n",
       "\n",
       "            <dl>\n",
       "              <dt>Version</dt>\n",
       "                <dd><code>v3.0.0</code></dd>\n",
       "              <dt>Master</dt>\n",
       "                <dd><code>spark://spark-master:7077</code></dd>\n",
       "              <dt>AppName</dt>\n",
       "                <dd><code>homework3</code></dd>\n",
       "            </dl>\n",
       "        </div>\n",
       "        \n",
       "            </div>\n",
       "        "
      ],
      "text/plain": [
       "<pyspark.sql.session.SparkSession at 0x7f0c0ea4a8e0>"
      ]
     },
     "execution_count": 25,
     "metadata": {},
     "output_type": "execute_result"
    }
   ],
   "source": [
    "spark = SparkSession.builder.appName(\"homework3\").master(\"spark://spark-master:7077\").config(\"fs.defaultFS\",\"hdfs://namenode:9000/\").getOrCreate()\n",
    "spark"
   ]
  },
  {
   "cell_type": "markdown",
   "id": "b12f0043",
   "metadata": {},
   "source": [
    "\n",
    "<div align=\"right\" dir=\"auto\">\n",
    "   \n",
    "#  خواندن داده \n",
    "\n",
    "    :در اسپارک ما ساختارهای مختلفی برای کار با داده و پخش شدن آن‌ها در شبکه داریم که به ۳ دسته تقسیم بندی میشوند \n",
    "+ RDD\n",
    "+ Dataset\n",
    "+ DataFrame\n",
    "    \n",
    "    \n",
    "     برای مطالعه بیشتر به لینک زیر مراجعه کنید:\n",
    "[rdd-vs-dataframe-vs-dataset](https://phoenixnap.com/kb/rdd-vs-dataframe-vs-dataset)\n",
    "\n",
    "    ما در درس با ساختار RDD آشنا شدیم حال در این تمرین میخواهیم با ساختار Dataframe آشنا شویم و به کمک آن دیتا را از روی HDFS بخوانیم و روی آن فایل‌ها پردازش انجام دهیم\n",
    " \n",
    " </div>\n",
    "  \n",
    "    "
   ]
  },
  {
   "cell_type": "markdown",
   "id": "bd922059",
   "metadata": {},
   "source": [
    "- [Spark Cluster Master UI](http://localhost:8080/)\n",
    "- [Application master UI (driver UI)](http://localhost:4040)\n",
    "- [Web Hdfs](http://localhost:9870/explorer.html#/)\n"
   ]
  },
  {
   "cell_type": "markdown",
   "id": "414863e4",
   "metadata": {},
   "source": [
    "<div align=\"right\" dir=\"auto\">\n",
    " .در این قسمت دیتاست را لود می‌کنیم \n",
    "</div>"
   ]
  },
  {
   "cell_type": "code",
   "execution_count": 26,
   "id": "7a21a5d9",
   "metadata": {
    "collapsed": false,
    "jupyter": {
     "outputs_hidden": false
    }
   },
   "outputs": [
    {
     "name": "stderr",
     "output_type": "stream",
     "text": [
      "                                                                                \r"
     ]
    }
   ],
   "source": [
    "War = spark.read.json(f\"/homework3/dataset/War.json\")\n",
    "Weapon = spark.read.json(\"/homework3/dataset/Weapon.json\")"
   ]
  },
  {
   "cell_type": "markdown",
   "id": "f8d2a50c",
   "metadata": {},
   "source": [
    "<div align=\"right\" dir=\"auto\">\n",
    "برای اینکه بتوانیم روی دیتای لود شده به وسیله تابع  spark.sql\n",
    "    کوئری‌های SQL بزنیم\n",
    "    باید دو دیتاست لود شده را به عنوان table\n",
    "    به spark \n",
    "    معرفی کنیم\n",
    "</div>"
   ]
  },
  {
   "cell_type": "code",
   "execution_count": 27,
   "id": "cc511dcb",
   "metadata": {},
   "outputs": [],
   "source": [
    "War.registerTempTable(\"War\")\n",
    "Weapon.registerTempTable(\"Weapon\")\n"
   ]
  },
  {
   "cell_type": "markdown",
   "id": "563cbbc2",
   "metadata": {},
   "source": [
    "<div align=\"right\" dir=\"auto\">\n",
    "یک مثال ...\n",
    "</div>"
   ]
  },
  {
   "cell_type": "code",
   "execution_count": 28,
   "id": "cac64fe8",
   "metadata": {},
   "outputs": [
    {
     "name": "stdout",
     "output_type": "stream",
     "text": [
      "+-----------+-------------+--------+-------------+--------------+------------+\n",
      "|  DateOfWar|DurationOfWar|Location|MinorityStart|TargetMinority|      Weapon|\n",
      "+-----------+-------------+--------+-------------+--------------+------------+\n",
      "|73298-04-22|       1005.0|BIEN HOA|          Elf|           Orc|Mirkwood Bow|\n",
      "+-----------+-------------+--------+-------------+--------------+------------+\n",
      "\n"
     ]
    }
   ],
   "source": [
    "spark.sql(\"SELECT * FROM War where DurationOfWar=1005.0 limit 1;\").show()"
   ]
  },
  {
   "cell_type": "code",
   "execution_count": 29,
   "id": "39f51bc4",
   "metadata": {},
   "outputs": [
    {
     "name": "stdout",
     "output_type": "stream",
     "text": [
      "+-----------+-------------+--------+-------------+--------------+------------+\n",
      "|  DateOfWar|DurationOfWar|Location|MinorityStart|TargetMinority|      Weapon|\n",
      "+-----------+-------------+--------+-------------+--------------+------------+\n",
      "|73298-04-22|       1005.0|BIEN HOA|          Elf|           Orc|Mirkwood Bow|\n",
      "+-----------+-------------+--------+-------------+--------------+------------+\n",
      "\n"
     ]
    },
    {
     "name": "stderr",
     "output_type": "stream",
     "text": [
      "                                                                                \r"
     ]
    }
   ],
   "source": [
    "War.select(\"*\").filter(col(\"DurationOfWar\")==1005.0).limit(1).show()"
   ]
  },
  {
   "cell_type": "markdown",
   "id": "fbdeb165",
   "metadata": {},
   "source": [
    "<div align=\"right\" dir=\"auto\">\n",
    " ده رکورد آخر را نمایش دهید\n",
    "</div>"
   ]
  },
  {
   "cell_type": "code",
   "execution_count": 30,
   "id": "9adc2c40",
   "metadata": {},
   "outputs": [
    {
     "name": "stderr",
     "output_type": "stream",
     "text": [
      "[Stage 14:=================================================>        (6 + 1) / 7]\r"
     ]
    },
    {
     "name": "stdout",
     "output_type": "stream",
     "text": [
      "+-----------+-------------+-------------+-------------+--------------+---------+\n",
      "|  DateOfWar|DurationOfWar|     Location|MinorityStart|TargetMinority|   Weapon|\n",
      "+-----------+-------------+-------------+-------------+--------------+---------+\n",
      "|73365-06-30|       1800.0|NAKHON PHANOM|          Elf|        Nazgul|     null|\n",
      "|73365-06-30|        800.0|NAKHON PHANOM|          Elf|        Nazgul|     null|\n",
      "|73365-06-30|        800.0|      U TAPAO|          Elf|        Nazgul|     null|\n",
      "|73365-06-30|        800.0|NAKHON PHANOM|          Elf|        Nazgul|     null|\n",
      "|73365-06-30|       1800.0|NAKHON PHANOM|          Elf|        Nazgul|     null|\n",
      "|73365-06-30|        800.0|     UDORN AB|          Elf|        Nazgul|     null|\n",
      "|73365-06-30|        800.0|        KORAT|          Elf|        Nazgul|Glamdring|\n",
      "|73365-06-30|        800.0|     UDORN AB|          Elf|        Nazgul|  Andúril|\n",
      "|73365-06-30|        800.0|NAKHON PHANOM|          Elf|        Nazgul|     null|\n",
      "|73365-06-30|        800.0|NAKHON PHANOM|          Elf|        Nazgul|     null|\n",
      "+-----------+-------------+-------------+-------------+--------------+---------+\n",
      "\n"
     ]
    },
    {
     "name": "stderr",
     "output_type": "stream",
     "text": [
      "                                                                                \r"
     ]
    }
   ],
   "source": [
    "spark.sql(\"SELECT * FROM War ORDER BY DateOfWar DESC limit 10;\").show()"
   ]
  },
  {
   "cell_type": "markdown",
   "id": "18b373c3",
   "metadata": {},
   "source": [
    "<div align=\"right\" dir=\"auto\">\n",
    "اسکیما یا ساختار دیتاست ها را نمایش دهید\n",
    "\n",
    "</div>"
   ]
  },
  {
   "cell_type": "code",
   "execution_count": 31,
   "id": "1ad5d411",
   "metadata": {},
   "outputs": [
    {
     "name": "stdout",
     "output_type": "stream",
     "text": [
      "root\n",
      " |-- DateOfWar: string (nullable = true)\n",
      " |-- DurationOfWar: double (nullable = true)\n",
      " |-- Location: string (nullable = true)\n",
      " |-- MinorityStart: string (nullable = true)\n",
      " |-- TargetMinority: string (nullable = true)\n",
      " |-- Weapon: string (nullable = true)\n",
      "\n",
      "root\n",
      " |-- Description: string (nullable = true)\n",
      " |-- Weapon: string (nullable = true)\n",
      "\n"
     ]
    }
   ],
   "source": [
    "War.printSchema()\n",
    "Weapon.printSchema()"
   ]
  },
  {
   "cell_type": "markdown",
   "id": "6c6004e7",
   "metadata": {},
   "source": [
    "### Expected\n",
    "![image](expected_answers/1.png)"
   ]
  },
  {
   "cell_type": "markdown",
   "id": "83497b95",
   "metadata": {},
   "source": [
    "\n",
    "<div align=\"right\" dir=\"auto\">\n",
    "   \n",
    "#  اسپارک SQL \n",
    "\n",
    "    مهمترین قابلیت اسپارک این است که می‌تواند با خواندن فایل‌ها به صورت توزیع شده روی آن‌ها پردازش انجام دهد و این پردازش را برنامه ‌نویس میتواند با استفاده از دستورات SQL اعمال کند\n",
    "    در این بخش از شما انتظار می‌رود که به وسیله spark SQL  به اسپارک کوئری  بزنید . \n",
    "    \n",
    "    \n",
    " </div>\n",
    "\n",
    "[pyspark.sql.functions.col](https://spark.apache.org/docs/latest/api/python/reference/pyspark.sql/api/pyspark.sql.functions.col.html)\n",
    "\n",
    "[pyspark.sql.DataFrame.count](https://spark.apache.org/docs/latest/api/python/reference/pyspark.sql/api/pyspark.sql.DataFrame.count.html)\n",
    "\n",
    "[pyspark.sql.DataFrame.filter](https://spark.apache.org/docs/latest/api/python/reference/pyspark.sql/api/pyspark.sql.DataFrame.filter.html)\n",
    "\n",
    "[pyspark.sql.DataFrame.groupBy](https://spark.apache.org/docs/3.1.1/api/python/reference/api/pyspark.sql.DataFrame.groupBy.html)"
   ]
  },
  {
   "cell_type": "markdown",
   "id": "601b2cd8",
   "metadata": {},
   "source": [
    "<div align=\"right\" dir=\"auto\">\n",
    " چه تعداد نبرد در کل این دوران‌ها انجام شده است؟\n",
    "</div>"
   ]
  },
  {
   "cell_type": "code",
   "execution_count": 33,
   "id": "e25b0f66",
   "metadata": {
    "collapsed": false,
    "jupyter": {
     "outputs_hidden": false
    }
   },
   "outputs": [
    {
     "name": "stderr",
     "output_type": "stream",
     "text": [
      "[Stage 18:========>                                                 (1 + 6) / 7]\r"
     ]
    },
    {
     "name": "stdout",
     "output_type": "stream",
     "text": [
      "Number of all Wars is 4400775\n"
     ]
    },
    {
     "name": "stderr",
     "output_type": "stream",
     "text": [
      "                                                                                \r"
     ]
    }
   ],
   "source": [
    "print(\"Number of all Wars is \" + str(War.count()))"
   ]
  },
  {
   "attachments": {
    "250d31de-dc78-4291-a931-9e1afdfa5974.png": {
     "image/png": "[encoded data removed]"
    }
   },
   "cell_type": "markdown",
   "id": "2999e5bd",
   "metadata": {},
   "source": [
    "![2.png](attachment:250d31de-dc78-4291-a931-9e1afdfa5974.png)### Expected\n",
    "![image](expected_answers/2.png)"
   ]
  },
  {
   "cell_type": "markdown",
   "id": "206a2937",
   "metadata": {},
   "source": [
    "<div align=\"right\" dir=\"auto\">\n",
    "هر نژاد در چه تعدادی نبرد مشارکت داشته اند  به صورت مرتب شده نمایش دهبد؟\n",
    "</div>"
   ]
  },
  {
   "cell_type": "code",
   "execution_count": 34,
   "id": "2ebff2b7",
   "metadata": {},
   "outputs": [
    {
     "name": "stderr",
     "output_type": "stream",
     "text": [
      "                                                                                \r"
     ]
    },
    {
     "data": {
      "text/html": [
       "<div>\n",
       "<style scoped>\n",
       "    .dataframe tbody tr th:only-of-type {\n",
       "        vertical-align: middle;\n",
       "    }\n",
       "\n",
       "    .dataframe tbody tr th {\n",
       "        vertical-align: top;\n",
       "    }\n",
       "\n",
       "    .dataframe thead th {\n",
       "        text-align: right;\n",
       "    }\n",
       "</style>\n",
       "<table border=\"1\" class=\"dataframe\">\n",
       "  <thead>\n",
       "    <tr style=\"text-align: right;\">\n",
       "      <th></th>\n",
       "      <th>MinorityStart</th>\n",
       "      <th>count</th>\n",
       "    </tr>\n",
       "  </thead>\n",
       "  <tbody>\n",
       "    <tr>\n",
       "      <th>0</th>\n",
       "      <td>Elf</td>\n",
       "      <td>3708997</td>\n",
       "    </tr>\n",
       "    <tr>\n",
       "      <th>1</th>\n",
       "      <td>Orc</td>\n",
       "      <td>622013</td>\n",
       "    </tr>\n",
       "    <tr>\n",
       "      <th>2</th>\n",
       "      <td>Goblin</td>\n",
       "      <td>32777</td>\n",
       "    </tr>\n",
       "    <tr>\n",
       "      <th>3</th>\n",
       "      <td>Dwarf</td>\n",
       "      <td>24469</td>\n",
       "    </tr>\n",
       "    <tr>\n",
       "      <th>4</th>\n",
       "      <td>Hobbit</td>\n",
       "      <td>12519</td>\n",
       "    </tr>\n",
       "  </tbody>\n",
       "</table>\n",
       "</div>"
      ],
      "text/plain": [
       "  MinorityStart    count\n",
       "0           Elf  3708997\n",
       "1           Orc   622013\n",
       "2        Goblin    32777\n",
       "3         Dwarf    24469\n",
       "4        Hobbit    12519"
      ]
     },
     "execution_count": 34,
     "metadata": {},
     "output_type": "execute_result"
    }
   ],
   "source": [
    "War.groupBy('MinorityStart').count().orderBy(desc('count')).toPandas()"
   ]
  },
  {
   "cell_type": "markdown",
   "id": "b66dc736",
   "metadata": {},
   "source": [
    "### Expected\n",
    "![image](expected_answers/3.png)"
   ]
  },
  {
   "cell_type": "markdown",
   "id": "021f9388",
   "metadata": {},
   "source": [
    "\n",
    "<div align=\"right\" dir=\"auto\">\n",
    "   \n",
    "#  اسپارک toPandas \n",
    "\n",
    "    یکی ار قابلیت‌های اسپارک این است که می‌توان dataframe های آن را به \n",
    "    dataframe های pandas تبدیل کند و از توابع آن از جمله\n",
    "    توابع plot  آن برای رسم نمودار استفاده کرد.\n",
    "    در این قسمت از شما انتظار می‌رود نمودار تعداد جنگ‌ها بر اساس هر گونه را رسم کنید.\n",
    "    \n",
    " </div>\n",
    "  \n",
    "    \n",
    "\n",
    "  \n",
    "[pyspark.sql.DataFrame.toPandas](https://spark.apache.org/docs/latest/api/python/reference/pyspark.sql/api/pyspark.sql.DataFrame.toPandas.html)\n",
    "\n",
    "[pyspark.pandas.DataFrame.plot](https://spark.apache.org/docs/3.2.1/api/python/reference/pyspark.pandas/api/pyspark.pandas.DataFrame.plot.html)\n"
   ]
  },
  {
   "cell_type": "code",
   "execution_count": 35,
   "id": "008e6f5d",
   "metadata": {},
   "outputs": [
    {
     "name": "stderr",
     "output_type": "stream",
     "text": [
      "                                                                                \r"
     ]
    },
    {
     "data": {
      "text/plain": [
       "<AxesSubplot: xlabel='Minority', ylabel='Number of Wars'>"
      ]
     },
     "execution_count": 35,
     "metadata": {},
     "output_type": "execute_result"
    },
    {
     "data": {
      "image/png": "[encoded data removed]",
      "text/plain": [
       "<Figure size 640x480 with 1 Axes>"
      ]
     },
     "metadata": {},
     "output_type": "display_data"
    }
   ],
   "source": [
    "War.groupBy('MinorityStart').count().orderBy(desc('count')).toPandas().plot(kind = 'bar', x='MinorityStart', y='count', xlabel='Minority', ylabel='Number of Wars', log=True)"
   ]
  },
  {
   "cell_type": "markdown",
   "id": "3fb520ae",
   "metadata": {},
   "source": [
    "### Expected\n",
    "![image](expected_answers/plotlib.png)"
   ]
  },
  {
   "cell_type": "markdown",
   "id": "2a1ebbd7",
   "metadata": {},
   "source": [
    "<div align=\"right\" dir=\"auto\">\n",
    "چه تعداد نبردهایی بر اساس زمان انجام شده بر اساس زمان مرتب کنید\n",
    "</div>"
   ]
  },
  {
   "cell_type": "code",
   "execution_count": 36,
   "id": "e1eb1ec3",
   "metadata": {},
   "outputs": [
    {
     "name": "stderr",
     "output_type": "stream",
     "text": [
      "[Stage 31:============================================>         (165 + 7) / 200]\r"
     ]
    },
    {
     "name": "stdout",
     "output_type": "stream",
     "text": [
      "+-----------+-----+\n",
      "|  DateOfWar|count|\n",
      "+-----------+-----+\n",
      "|73295-10-01|  447|\n",
      "|73295-10-02|  652|\n",
      "|73295-10-03|  608|\n",
      "|73295-10-04|  532|\n",
      "|73295-10-05|  769|\n",
      "|73295-10-06|  738|\n",
      "|73295-10-07|  655|\n",
      "|73295-10-08|  764|\n",
      "|73295-10-09|  746|\n",
      "|73295-10-10|  848|\n",
      "|73295-10-11|  503|\n",
      "|73295-10-12|  511|\n",
      "|73295-10-13|  395|\n",
      "|73295-10-14|  469|\n",
      "|73295-10-15|  492|\n",
      "|73295-10-16|  533|\n",
      "|73295-10-17|  381|\n",
      "|73295-10-18|  529|\n",
      "|73295-10-19|  649|\n",
      "|73295-10-20|  624|\n",
      "+-----------+-----+\n",
      "only showing top 20 rows\n",
      "\n"
     ]
    },
    {
     "name": "stderr",
     "output_type": "stream",
     "text": [
      "                                                                                \r"
     ]
    }
   ],
   "source": [
    "War.groupBy('DateOfWar').count().orderBy('DateOfWar').show()"
   ]
  },
  {
   "cell_type": "markdown",
   "id": "1917f4a6",
   "metadata": {},
   "source": [
    "### Expected\n",
    "![image](expected_answers/date_groupBy.png)"
   ]
  },
  {
   "cell_type": "markdown",
   "id": "30a07d02",
   "metadata": {},
   "source": [
    "<div align=\"right\" dir=\"auto\">\n",
    "نژاد \"اورک\" توسط چه نژادی مورد حمله قرار گرفته است ؟\n",
    "</div>"
   ]
  },
  {
   "cell_type": "code",
   "execution_count": 37,
   "id": "0f7450d0",
   "metadata": {},
   "outputs": [
    {
     "name": "stderr",
     "output_type": "stream",
     "text": [
      "                                                                                \r"
     ]
    },
    {
     "name": "stdout",
     "output_type": "stream",
     "text": [
      "+-------------+\n",
      "|MinorityStart|\n",
      "+-------------+\n",
      "|          Elf|\n",
      "|          Orc|\n",
      "|       Hobbit|\n",
      "|        Dwarf|\n",
      "+-------------+\n",
      "\n"
     ]
    }
   ],
   "source": [
    "spark.sql(\"SELECT MinorityStart FROM War where war.TargetMinority='Orc' GROUP BY MinorityStart\").show()"
   ]
  },
  {
   "cell_type": "markdown",
   "id": "6757446e",
   "metadata": {},
   "source": [
    "### Expected\n",
    "![image](expected_answers/orc_target.png)"
   ]
  },
  {
   "cell_type": "markdown",
   "id": "7555702a",
   "metadata": {},
   "source": [
    "\n",
    "<div align=\"right\" dir=\"auto\">\n",
    "   \n",
    "#  اسپارک Shuffle \n",
    "\n",
    "    Spark SQL shuffle مکانیزمی است برای توزیع مجدد یا پارتیشن بندی مجدد داده ها به طوری که داده ها به طور متفاوت در پارتیشن ها گروه بندی می شوند، بر اساس اندازه داده شما ممکن است نیاز باشد تعداد پارتیشن های RDD/DataFrame را با استفاده از اسپارک کاهش یا افزایش دهید.\n",
    "    برای مثال وقتی روی دو dataframe مختلف که روی شبکه توزیع شده اند\n",
    "    دستور join را میزنیم یک عملیات \n",
    "    shuffling انجام میشود\n",
    "    در این قسمت از شما انتظار می‌رود کوئری جوین زیر را نوشته و اجرا کنید همچنین به  صفحه \n",
    "    application master ui\n",
    "    مراجعه کنید و نحوه shuffleing را گزارش کنید . \n",
    "     و همچنین توضیح دهید DAG scheduler  در اسپارک چیست ؟\n",
    " </div>\n",
    "  \n",
    "    \n",
    "\n",
    "  \n",
    "[shuffling in standalone cluster](https://medium.com/@rachit1arora/apache-spark-shuffle-service-there-are-more-than-one-options-c1a8e098230e)\n",
    "\n"
   ]
  },
  {
   "cell_type": "markdown",
   "id": "6180ad55",
   "metadata": {},
   "source": [
    " دگ اسکجولر یک برنامه ریز است که با توجه استیج های پیش رو و آر دی دی های خروجی، زمانبندی میکند تا در کمترین زمان ممکن کارها انجام شوند"
   ]
  },
  {
   "cell_type": "markdown",
   "id": "204fa8e7",
   "metadata": {},
   "source": [
    "<div align=\"right\" dir=\"auto\">\n",
    "    \n",
    "    بیشترین سلاحی که در این جنگ ها استفاده شده کدام سلاح  بوده است؟.\n",
    "    جزییات این سلاح را از فایل مشخصات سلاح (Weapon) می‌توانید بدست آورید.\n",
    "    فایل مربوط به سلاح ها را بازخوانی کرده و برای نمایش بین دو فایل از join استفاده شود.\n",
    "\n",
    "</div>"
   ]
  },
  {
   "cell_type": "markdown",
   "id": "f299febb",
   "metadata": {},
   "source": [
    "Anduril"
   ]
  },
  {
   "cell_type": "code",
   "execution_count": 38,
   "id": "42cafb1b",
   "metadata": {},
   "outputs": [
    {
     "name": "stderr",
     "output_type": "stream",
     "text": [
      "                                                                                \r"
     ]
    },
    {
     "name": "stdout",
     "output_type": "stream",
     "text": [
      "+------------+------+--------------------+\n",
      "|      Weapon| count|         Description|\n",
      "+------------+------+--------------------+\n",
      "|     Andúril|909362|\"Reforged from th...|\n",
      "|       Narya|451385|Narya has the pow...|\n",
      "|       Vilya|372975| Vilya was the st...|\n",
      "|     Orcrist|358498|\"A sword in The H...|\n",
      "|Mirkwood Bow|267457| Legolas wielded ...|\n",
      "|       Nenya|242231|Galadriel’s ring ...|\n",
      "|   Glamdring|165773|\"A sword in The H...|\n",
      "|    Aranrúth|146543|A sword wielded b...|\n",
      "| Master Ring|144601|The Ring was a si...|\n",
      "|       Sting|140410|A knife in The Ho...|\n",
      "|       Grond| 99100|\"The name of the ...|\n",
      "|Dragon-helm | 82219|A helmet owned an...|\n",
      "|      Aeglos| 76525|A spear wielded b...|\n",
      "|    Herugrim| 75058|A sword that belo...|\n",
      "|   Red Arrow| 73843|\"A black-feathere...|\n",
      "|   Anglachel| 71716|A sword forged by...|\n",
      "|    Gúthwinë| 58691|A sword wielded b...|\n",
      "|Belthronding| 52865|A bow wielded by ...|\n",
      "|      Ringil| 50843|A sword wielded b...|\n",
      "|  Dramborleg| 41655|An axe belonging ...|\n",
      "+------------+------+--------------------+\n",
      "\n"
     ]
    }
   ],
   "source": [
    "newDf = War.groupBy('Weapon').count().join(Weapon, on='Weapon', how = \"inner\").orderBy(desc('count'))\n",
    "newDf.show()"
   ]
  },
  {
   "cell_type": "markdown",
   "id": "f25f616d",
   "metadata": {},
   "source": [
    "### Expected\n",
    "![image](expected_answers/most_used_weapons.png)"
   ]
  },
  {
   "cell_type": "markdown",
   "id": "9b54d898",
   "metadata": {},
   "source": [
    "     # ToDo\n",
    "     # Refere to Application master UI"
   ]
  },
  {
   "cell_type": "markdown",
   "id": "31915890",
   "metadata": {},
   "source": [
    "\n",
    "<div align=\"right\" dir=\"auto\">\n",
    "   \n",
    "# تابع تعریف شده توسط کاربر(UDF)\n",
    "\n",
    "    یکی از مزایای اسپارک این است که نه تنها برای ما یک زبان SQL فراهم کرده که روی چندین سرور به صورت همزمان پردازش را انجام دهد بلکه \n",
    "    میتوان به زبان‌های مختلف توابعی تعریف کرد که روی  همه executor ها اجرا شود\n",
    "    در این بخش از شما انتظار می‌رود که با نوشتن یک UDF به زبان پایتونی \n",
    "    توضیحات هر اسلحه را به 3 کلمه اول آن کوتاه کنید و بقیه کلمات را حذف کنید و سوتونی به نام short_description را به داده های \n",
    "    Weapon اضافه کنید\n",
    "    \n",
    "    \n",
    " </div>\n",
    " \n",
    "[pyspark.sql.functions.udf](https://spark.apache.org/docs/3.1.3/api/python/reference/api/pyspark.sql.functions.udf.html)\n",
    "\n",
    "[pyspark.sql.DataFrame.withColumn](https://spark.apache.org/docs/3.1.3/api/python/reference/api/pyspark.sql.DataFrame.withColumn.html)\n",
    "\n",
    "    \n",
    "\n"
   ]
  },
  {
   "cell_type": "code",
   "execution_count": 42,
   "id": "c2593ba6",
   "metadata": {},
   "outputs": [
    {
     "name": "stderr",
     "output_type": "stream",
     "text": [
      "[Stage 48:>                                                         (0 + 1) / 1]\r"
     ]
    },
    {
     "name": "stdout",
     "output_type": "stream",
     "text": [
      "+--------------------+------------+--------------------+\n",
      "|         Description|      Weapon|   short_description|\n",
      "+--------------------+------------+--------------------+\n",
      "|Narya has the pow...|       Narya|       Narya has the|\n",
      "| Vilya was the st...|       Vilya|       Vilya was the|\n",
      "|\"Reforged from th...|     Andúril|  \"Reforged from the|\n",
      "|\"A sword in The H...|     Orcrist|         \"A sword in|\n",
      "| Legolas wielded ...|Mirkwood Bow| Legolas wielded two|\n",
      "|Galadriel’s ring ...|       Nenya|Galadriel’s ring had|\n",
      "|\"A sword in The H...|   Glamdring|         \"A sword in|\n",
      "|A sword wielded b...|    Aranrúth|     A sword wielded|\n",
      "|The Ring was a si...| Master Ring|        The Ring was|\n",
      "|A knife in The Ho...|       Sting|          A knife in|\n",
      "|\"The name of the ...|       Grond|        \"The name of|\n",
      "|A helmet owned an...|Dragon-helm |      A helmet owned|\n",
      "|A spear wielded b...|      Aeglos|     A spear wielded|\n",
      "|A sword that belo...|    Herugrim|        A sword that|\n",
      "|\"A black-feathere...|   Red Arrow|\"A black-feathere...|\n",
      "|A sword forged by...|   Anglachel|      A sword forged|\n",
      "|A sword wielded b...|    Gúthwinë|     A sword wielded|\n",
      "|A bow wielded by ...|Belthronding|       A bow wielded|\n",
      "|A sword wielded b...|      Ringil|     A sword wielded|\n",
      "|An axe belonging ...|  Dramborleg|    An axe belonging|\n",
      "+--------------------+------------+--------------------+\n",
      "\n"
     ]
    },
    {
     "name": "stderr",
     "output_type": "stream",
     "text": [
      "                                                                                \r"
     ]
    }
   ],
   "source": [
    "from pyspark.sql.types import StringType\n",
    "from pyspark.sql import udf \n",
    "def to_shorten(s):\n",
    "    arr = s.split()\n",
    "    return ' '.join(arr[:3])\n",
    "to_shorten_udf = F.udf(lambda s: to_shorten(s), StringType())\n",
    "Weapon.withColumn('short_description', to_shorten_udf(Weapon.Description)).show()"
   ]
  },
  {
   "cell_type": "markdown",
   "id": "7fa11fba",
   "metadata": {},
   "source": [
    "### Expected\n",
    "![image](expected_answers/shortener_udf.png)"
   ]
  },
  {
   "cell_type": "markdown",
   "id": "cb77989b",
   "metadata": {},
   "source": [
    "\n",
    "<div align=\"right\" dir=\"auto\">\n",
    "   \n",
    "# نوشتن داده و پارتیشنینگ\n",
    "    زمانی که میخواهیم داده های حجیم را به صورت فایل هایی ذخیره کنیم  نمیتوانیم همه داده را در یک فایل بزرگ ذخیره کنیم به چند دلیل :\n",
    "-  ذخیره سازی یک فایل بزرگ باعث ؛تنها نقطه شکست میشود؛ و با حذف آن کل داده از دست میرود\n",
    "- جستجو در این یک فایل بزرگ که مرتب شده نیست دشوار و عملی نیست\n",
    "- آپدیت کردن سخت تر میشود\n",
    "پس تا حدودی حل این میشکل از راه حل های زیر استفاده میکنیم\n",
    "# پارتیشنینگ: \n",
    "-     بر اساس یک فیلد داده هارا دسته بندی میکنیم و در دایرکتوری های مختلف میریزیم این کار را اسپارک برای ما انجام میدهد\n",
    "\n",
    "    \n",
    " </div>\n",
    "  \n",
    "    \n",
    "\n"
   ]
  },
  {
   "cell_type": "markdown",
   "id": "042932ca",
   "metadata": {},
   "source": [
    "<div align=\"right\" dir=\"rtl\">\n",
    "\n",
    "    در این بخش شما باید یک دیتاست کامل بسازید بدین شکل که دیتاست War و Weapon\n",
    "     را با یکدیگر جوین کنید سپس همه آن رکورد‌هایی که  در توضیحات اسلحه آنها کلمه sword \n",
    "    نیامده است را فیلتر کرده و برا اساس گونه شروع کننده جنگ (MinorityStart) پارتیشن کنید\n",
    "    و روی HDFS\n",
    "      در مسیر /homework3/<student_number>/output/war_without_sword بنویسید\n",
    "    و ۲۰ رکورد اول آن را نمایش دهید\n",
    "    توجه کنید فایل‌های خروجی باید از نوع JSON باشند\n",
    "    \n",
    "    \n",
    "</div>\n",
    "\n",
    "[pyspark.sql.DataFrameWriter.partitionBy](https://spark.apache.org/docs/latest/api/python/reference/pyspark.sql/api/pyspark.sql.DataFrameWriter.partitionBy.html)\n"
   ]
  },
  {
   "cell_type": "code",
   "execution_count": 49,
   "id": "b69a90dd",
   "metadata": {
    "collapsed": false,
    "jupyter": {
     "outputs_hidden": false
    }
   },
   "outputs": [
    {
     "name": "stdout",
     "output_type": "stream",
     "text": [
      "+------------+-----------+-------------+-------------+-------------+--------------+--------------------+\n",
      "|      Weapon|  DateOfWar|DurationOfWar|     Location|MinorityStart|TargetMinority|         Description|\n",
      "+------------+-----------+-------------+-------------+-------------+--------------+--------------------+\n",
      "|Belthronding|73361-06-05|       1005.0| TAN SON NHUT|          Elf|           Orc|A bow wielded by ...|\n",
      "|Belthronding|73362-12-26|        530.0|NAKHON PHANOM|          Elf|           Orc|A bow wielded by ...|\n",
      "|       Nenya|73363-07-28|        730.0|     UDORN AB|          Elf|        Goblin|Galadriel’s ring ...|\n",
      "|Mirkwood Bow|73360-10-08|       1240.0|       DANANG|          Orc|           Orc| Legolas wielded ...|\n",
      "|       Vilya|73362-03-08|       1005.0|  TONKIN GULF|          Elf|        Goblin| Vilya was the st...|\n",
      "|Belthronding|73362-09-12|        710.0| TAN SON NHUT|          Elf|           Orc|A bow wielded by ...|\n",
      "| Master Ring|73361-05-12|       1304.0|  TONKIN GULF|          Elf|        Goblin|The Ring was a si...|\n",
      "|  Dramborleg|73361-12-19|        230.0|   SAVANAKHET|       Goblin|        Goblin|An axe belonging ...|\n",
      "| Master Ring|73362-08-18|          0.0|  TONKIN GULF|          Elf|        Nazgul|The Ring was a si...|\n",
      "|   Red Arrow|73361-09-20|       1315.0|    BINH THUY|          Orc|           Orc|\"A black-feathere...|\n",
      "|Mirkwood Bow|73361-12-13|        318.0|     BIEN HOA|          Elf|           Orc| Legolas wielded ...|\n",
      "|       Nenya|73362-01-08|        850.0|     UDORN AB|          Elf|        Goblin|Galadriel’s ring ...|\n",
      "|Mirkwood Bow|73361-02-08|       1518.0|    BINH THUY|          Orc|           Orc| Legolas wielded ...|\n",
      "|       Nenya|73360-12-08|          0.0|     UDORN AB|          Elf|        Goblin|Galadriel’s ring ...|\n",
      "|      Aeglos|73361-06-01|       1410.0| TAN SON NHUT|          Elf|           Orc|A spear wielded b...|\n",
      "| Master Ring|73361-08-11|        805.0|  TONKIN GULF|          Elf|        Goblin|The Ring was a si...|\n",
      "|  Dramborleg|73362-05-07|        505.0|        PAKSE|       Goblin|        Goblin|An axe belonging ...|\n",
      "|       Nenya|73364-08-01|        304.0|     UDORN AB|          Elf|           Orc|Galadriel’s ring ...|\n",
      "|       Grond|73362-02-21|       1925.0|      U TAPAO|          Elf|        Goblin|\"The name of the ...|\n",
      "|Mirkwood Bow|73362-08-03|        515.0|     BIEN HOA|          Elf|           Orc| Legolas wielded ...|\n",
      "+------------+-----------+-------------+-------------+-------------+--------------+--------------------+\n",
      "only showing top 20 rows\n",
      "\n"
     ]
    },
    {
     "name": "stderr",
     "output_type": "stream",
     "text": [
      "                                                                                \r"
     ]
    }
   ],
   "source": [
    "newDf = War.join(Weapon,on='Weapon', how = \"inner\")\n",
    "newDf_without_sword = newDf.filter(~Weapon.Description.contains(\"sword\"))\n",
    "newDf_without_sword.show()\n",
    "partitioned_data = newDf_without_sword.write.partitionBy(\"MinorityStart\").json(\"/homework3/9831028_9831012/output/war_without_sword/\")"
   ]
  },
  {
   "cell_type": "markdown",
   "id": "6dfe0ec5",
   "metadata": {},
   "source": [
    "### Expected\n",
    "![war without sword](expected_answers/war_without_sword.png)\n",
    "\n",
    "\n"
   ]
  },
  {
   "cell_type": "markdown",
   "id": "5f24c3a3",
   "metadata": {},
   "source": [
    "<div align=\"right\" dir=\"rtl\">\n",
    "    \n",
    "  ### گزارش HDFS\n",
    "    با مراجعه به HDFS UI\n",
    "    خروجی پارتیشن شده مسیر بالا را مشاهده میکنید\n",
    "     -تعداد دایرکتوری‌های ایجاد شده چندتاست و دلیل آن چیست؟ \n",
    "    -در هر دایرکتوری ایجاد شده چند فایل JSON میبینید و دلیل تعدد این فایل‌ها چیست؟\n",
    "    - چگونه میتوان از اسپارک خواست تا از تعدد این فایل‌ها جلوگیری کند و یک فایل در این مسیر‌ها بریزد؟\n",
    "    - coalesce و repartition  در اسپارک چیستند و کاربر اصلی آنها چیست؟\n",
    "</div>\n",
    "\n"
   ]
  },
  {
   "cell_type": "markdown",
   "id": "831c31ea",
   "metadata": {},
   "source": [
    "    # ToDo"
   ]
  },
  {
   "cell_type": "markdown",
   "id": "395f0c54",
   "metadata": {},
   "source": [
    "شش تاست. پنج تای آن مربوط به اقوام مختلف است و ششمی یک فایل ساکسس است-\n",
    "\n",
    "تعداد فایل های جیسان متفاوت است و دلیل تعداد آن این است که تعداد رکورد های مربوط به هر قوم متفاوت است-\n",
    "\n",
    "با استفاده از دستور-\n",
    "Df.repartitionByRange(numberOfJson, $\"UniqueField\")\n",
    "\n",
    "\n",
    "ریپارتیشن میتواند تعداد پارتیشن ها را زیاد یا کم کند اما کولس فقط میتواند آن را کم کند. ریپارتیشن یک فرایند شافل کامله که پارتیشن های جدید ایجاد میکنه. اما کولس به جای ایجاد پارتیشن جدید، دیتاها را شافل میکند و در همان پارتیشن های موجود میریزد. از ریپارتیشن زمانی استفاده میکنیم که میخواهیم به صورت یکنواخت اگزکیوتر های خود را توزیع کنیم و از کولس زمانی استفاده میکنیم که میخواهیم دیتای تغییر داده شده را در تعداد کمی فایل ذخیره کنیم. \n"
   ]
  },
  {
   "cell_type": "markdown",
   "id": "e5293830",
   "metadata": {},
   "source": [
    "<div align=\"right\" dir=\"rtl\">\n",
    "\n",
    "   ## coalesce\n",
    "    همان تسک بالا را انجام دهید  ولی  سعی کنید در هر دایرکتوری پارتیشن شده تنها یک فایل JSON ریخته شود.\n",
    "    نکته:  در مسیر جدید زیر آن را بنویسید.\n",
    "    /homework3/<student_number>/output/war_without_sword_v2/\n",
    "    \n",
    "    \n",
    "</div>\n",
    "\n",
    "[pyspark.sql.DataFrame.coalesce](https://spark.apache.org/docs/3.1.1/api/python/reference/api/pyspark.sql.DataFrame.coalesce.html)\n"
   ]
  },
  {
   "cell_type": "code",
   "execution_count": 50,
   "id": "5e3a4a53",
   "metadata": {},
   "outputs": [
    {
     "name": "stderr",
     "output_type": "stream",
     "text": [
      "                                                                                \r"
     ]
    }
   ],
   "source": [
    "newDf_without_sword.coalesce(1).write.partitionBy(\"MinorityStart\").json(\"/homework3/9831028_9831012/output/war_without_sword_v2/\")"
   ]
  }
 ],
 "metadata": {
  "kernelspec": {
   "display_name": "Python 3 (ipykernel)",
   "language": "python",
   "name": "python3"
  },
  "language_info": {
   "codemirror_mode": {
    "name": "ipython",
    "version": 3
   },
   "file_extension": ".py",
   "mimetype": "text/x-python",
   "name": "python",
   "nbconvert_exporter": "python",
   "pygments_lexer": "ipython3",
   "version": "3.9.2"
  }
 },
 "nbformat": 4,
 "nbformat_minor": 5
}
